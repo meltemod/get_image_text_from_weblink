{
 "cells": [
  {
   "cell_type": "code",
   "execution_count": null,
   "id": "03b63e6b-8f19-4d29-8e97-d6addc5185c0",
   "metadata": {},
   "outputs": [],
   "source": [
    "#!pip install pytesseract"
   ]
  },
  {
   "cell_type": "code",
   "execution_count": null,
   "id": "8e962bca-2558-4220-a465-e32e6f30ba78",
   "metadata": {},
   "outputs": [],
   "source": [
    "import io\n",
    "import requests\n",
    "import pytesseract\n",
    "from PIL import Image"
   ]
  },
  {
   "cell_type": "code",
   "execution_count": null,
   "id": "e6642e15-0d85-4be2-b6b3-80f62efa75c9",
   "metadata": {},
   "outputs": [],
   "source": [
    "html = \"https://co02201641.schoolwires.net/cms/lib/CO02201641/Centricity/Domain/1574/D11%20Strategic%20Plan.png\""
   ]
  },
  {
   "cell_type": "code",
   "execution_count": null,
   "id": "e7f882b5-9fe0-4ddf-85ea-410d7c15d083",
   "metadata": {},
   "outputs": [],
   "source": [
    "response = requests.get(html)"
   ]
  },
  {
   "cell_type": "code",
   "execution_count": null,
   "id": "db8d8c44-8731-420e-8f66-f5d5f0cf551d",
   "metadata": {},
   "outputs": [],
   "source": [
    "img = Image.open(io.BytesIO(response.content))\n",
    "# print( type(img) ) # <class 'PIL.JpegImagePlugin.JpegImageFile'>\n",
    "text = pytesseract.image_to_string(img)\n",
    "print( text )"
   ]
  }
 ],
 "metadata": {
  "kernelspec": {
   "display_name": "Python 3 (ipykernel)",
   "language": "python",
   "name": "python3"
  },
  "language_info": {
   "codemirror_mode": {
    "name": "ipython",
    "version": 3
   },
   "file_extension": ".py",
   "mimetype": "text/x-python",
   "name": "python",
   "nbconvert_exporter": "python",
   "pygments_lexer": "ipython3",
   "version": "3.10.6"
  }
 },
 "nbformat": 4,
 "nbformat_minor": 5
}
